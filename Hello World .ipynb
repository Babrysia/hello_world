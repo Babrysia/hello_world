{
 "cells": [
  {
   "cell_type": "code",
   "execution_count": 1,
   "id": "94d2155d",
   "metadata": {},
   "outputs": [],
   "source": [
    "x=\"Hello World !\""
   ]
  },
  {
   "cell_type": "code",
   "execution_count": 2,
   "id": "71ddbff4",
   "metadata": {},
   "outputs": [
    {
     "name": "stdout",
     "output_type": "stream",
     "text": [
      "Hello World !\n"
     ]
    }
   ],
   "source": [
    "print(x)"
   ]
  },
  {
   "cell_type": "code",
   "execution_count": 2,
   "id": "606d4c56",
   "metadata": {},
   "outputs": [
    {
     "name": "stdout",
     "output_type": "stream",
     "text": [
      "Hello World !Hello World !I am tired!\n"
     ]
    }
   ],
   "source": [
    "print (x * 2 +\"I am tired!\")"
   ]
  },
  {
   "cell_type": "code",
   "execution_count": 3,
   "id": "f69106be",
   "metadata": {},
   "outputs": [],
   "source": [
    "a=2"
   ]
  },
  {
   "cell_type": "code",
   "execution_count": 4,
   "id": "923e6a01",
   "metadata": {},
   "outputs": [],
   "source": [
    "b=4"
   ]
  },
  {
   "cell_type": "code",
   "execution_count": 5,
   "id": "b69a3f0c",
   "metadata": {},
   "outputs": [],
   "source": [
    "ab=a*b"
   ]
  },
  {
   "cell_type": "code",
   "execution_count": 6,
   "id": "2e6c5032",
   "metadata": {},
   "outputs": [
    {
     "name": "stdout",
     "output_type": "stream",
     "text": [
      "8\n"
     ]
    }
   ],
   "source": [
    "print(ab)"
   ]
  },
  {
   "cell_type": "code",
   "execution_count": 7,
   "id": "e47ec1e5",
   "metadata": {},
   "outputs": [],
   "source": [
    "plus=a+b"
   ]
  },
  {
   "cell_type": "code",
   "execution_count": 8,
   "id": "a91f6883",
   "metadata": {},
   "outputs": [
    {
     "name": "stdout",
     "output_type": "stream",
     "text": [
      "6\n"
     ]
    }
   ],
   "source": [
    "print(plus)"
   ]
  },
  {
   "cell_type": "code",
   "execution_count": null,
   "id": "a53ed0e6",
   "metadata": {},
   "outputs": [],
   "source": []
  }
 ],
 "metadata": {
  "kernelspec": {
   "display_name": "Python 3 (ipykernel)",
   "language": "python",
   "name": "python3"
  },
  "language_info": {
   "codemirror_mode": {
    "name": "ipython",
    "version": 3
   },
   "file_extension": ".py",
   "mimetype": "text/x-python",
   "name": "python",
   "nbconvert_exporter": "python",
   "pygments_lexer": "ipython3",
   "version": "3.9.12"
  }
 },
 "nbformat": 4,
 "nbformat_minor": 5
}
