{
 "cells": [
  {
   "cell_type": "code",
   "execution_count": 1,
   "id": "94d2155d",
   "metadata": {},
   "outputs": [],
   "source": [
    "x=\"Hello World !\""
   ]
  },
  {
   "cell_type": "code",
   "execution_count": 2,
   "id": "71ddbff4",
   "metadata": {},
   "outputs": [
    {
     "name": "stdout",
     "output_type": "stream",
     "text": [
      "Hello World !\n"
     ]
    }
   ],
   "source": [
    "print(x)"
   ]
  },
  {
   "cell_type": "code",
   "execution_count": 2,
   "id": "606d4c56",
   "metadata": {},
   "outputs": [
    {
     "name": "stdout",
     "output_type": "stream",
     "text": [
      "Hello World !Hello World !I am tired!\n"
     ]
    }
   ],
   "source": [
    "print (x * 2 +\"I am tired!\")"
   ]
  },
  {
   "cell_type": "code",
   "execution_count": 3,
   "id": "b1525291",
   "metadata": {},
   "outputs": [],
   "source": [
    "a=2"
   ]
  },
  {
   "cell_type": "code",
   "execution_count": 4,
   "id": "6d39f401",
   "metadata": {},
   "outputs": [],
   "source": [
    "b=4"
   ]
  },
  {
   "cell_type": "code",
   "execution_count": 5,
   "id": "1caf5695",
   "metadata": {},
   "outputs": [],
   "source": [
    "ab=a*b"
   ]
  },
  {
   "cell_type": "code",
   "execution_count": 6,
   "id": "31874fc2",
   "metadata": {},
   "outputs": [
    {
     "name": "stdout",
     "output_type": "stream",
     "text": [
      "8\n"
     ]
    }
   ],
   "source": [
    "print(ab)"
   ]
  },
  {
   "cell_type": "code",
   "execution_count": null,
   "id": "08f65a96",
   "metadata": {},
   "outputs": [],
   "source": []
  }
 ],
 "metadata": {
  "kernelspec": {
   "display_name": "Python 3 (ipykernel)",
   "language": "python",
   "name": "python3"
  },
  "language_info": {
   "codemirror_mode": {
    "name": "ipython",
    "version": 3
   },
   "file_extension": ".py",
   "mimetype": "text/x-python",
   "name": "python",
   "nbconvert_exporter": "python",
   "pygments_lexer": "ipython3",
   "version": "3.9.12"
  }
 },
 "nbformat": 4,
 "nbformat_minor": 5
}
