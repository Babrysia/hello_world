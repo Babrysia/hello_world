{
 "cells": [
  {
   "cell_type": "code",
   "execution_count": 1,
   "id": "94d2155d",
   "metadata": {},
   "outputs": [],
   "source": [
    "x=\"Hello World !\""
   ]
  },
  {
   "cell_type": "code",
   "execution_count": 2,
   "id": "71ddbff4",
   "metadata": {},
   "outputs": [
    {
     "name": "stdout",
     "output_type": "stream",
     "text": [
      "Hello World !\n"
     ]
    }
   ],
   "source": [
    "print(x)"
   ]
  },
  {
   "cell_type": "code",
   "execution_count": 2,
   "id": "606d4c56",
   "metadata": {},
   "outputs": [
    {
     "name": "stdout",
     "output_type": "stream",
     "text": [
      "Hello World !Hello World !I am tired!\n"
     ]
    }
   ],
   "source": [
    "print (x * 2 +\"I am tired!\")"
   ]
  },
  {
   "cell_type": "code",
   "execution_count": 3,
   "id": "129d7823",
   "metadata": {},
   "outputs": [],
   "source": [
    "a=2"
   ]
  },
  {
   "cell_type": "code",
   "execution_count": 4,
   "id": "24019168",
   "metadata": {},
   "outputs": [],
   "source": [
    "b=4"
   ]
  },
  {
   "cell_type": "code",
   "execution_count": 5,
   "id": "887c9719",
   "metadata": {},
   "outputs": [],
   "source": [
    "ab=a*b"
   ]
  },
  {
   "cell_type": "code",
   "execution_count": 6,
   "id": "c86001b7",
   "metadata": {},
   "outputs": [
    {
     "name": "stdout",
     "output_type": "stream",
     "text": [
      "8\n"
     ]
    }
   ],
   "source": [
    "print(ab)"
   ]
  },
  {
   "cell_type": "code",
   "execution_count": 7,
   "id": "28dfc85e",
   "metadata": {},
   "outputs": [],
   "source": [
    "plus=a+b"
   ]
  },
  {
   "cell_type": "code",
   "execution_count": 8,
   "id": "304a052a",
   "metadata": {},
   "outputs": [
    {
     "name": "stdout",
     "output_type": "stream",
     "text": [
      "6\n"
     ]
    }
   ],
   "source": [
    "print(plus)"
   ]
  },
  {
   "cell_type": "code",
   "execution_count": 9,
   "id": "eadd1d0f",
   "metadata": {},
   "outputs": [],
   "source": [
    "g=ab+plus"
   ]
  },
  {
   "cell_type": "code",
   "execution_count": 10,
   "id": "f2c730a9",
   "metadata": {},
   "outputs": [
    {
     "name": "stdout",
     "output_type": "stream",
     "text": [
      "14\n"
     ]
    }
   ],
   "source": [
    "print(g)"
   ]
  },
  {
   "cell_type": "code",
   "execution_count": 11,
   "id": "55550cc7",
   "metadata": {},
   "outputs": [
    {
     "data": {
      "text/plain": [
       "8"
      ]
     },
     "execution_count": 11,
     "metadata": {},
     "output_type": "execute_result"
    }
   ],
   "source": [
    "2+6"
   ]
  },
  {
   "cell_type": "code",
   "execution_count": 12,
   "id": "d28ccf62",
   "metadata": {},
   "outputs": [],
   "source": [
    "f=\"Test test test just to see if it works with git hub push \""
   ]
  },
  {
   "cell_type": "code",
   "execution_count": 13,
   "id": "bbcfcb3e",
   "metadata": {},
   "outputs": [
    {
     "name": "stdout",
     "output_type": "stream",
     "text": [
      "Hello World !Test test test just to see if it works with git hub push \n"
     ]
    }
   ],
   "source": [
    "print (x+f)"
   ]
  },
  {
   "cell_type": "code",
   "execution_count": null,
   "id": "c9ec5ab6",
   "metadata": {},
   "outputs": [],
   "source": []
  }
 ],
 "metadata": {
  "kernelspec": {
   "display_name": "Python 3 (ipykernel)",
   "language": "python",
   "name": "python3"
  },
  "language_info": {
   "codemirror_mode": {
    "name": "ipython",
    "version": 3
   },
   "file_extension": ".py",
   "mimetype": "text/x-python",
   "name": "python",
   "nbconvert_exporter": "python",
   "pygments_lexer": "ipython3",
   "version": "3.9.12"
  }
 },
 "nbformat": 4,
 "nbformat_minor": 5
}
